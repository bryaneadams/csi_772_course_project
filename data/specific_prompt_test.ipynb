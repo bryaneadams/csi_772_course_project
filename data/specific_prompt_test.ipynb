{
 "cells": [
  {
   "cell_type": "code",
   "execution_count": 42,
   "metadata": {},
   "outputs": [],
   "source": [
    "import pandas as pd\n",
    "import numpy as np\n",
    "import google.generativeai as palm\n",
    "from utils import VectorEmbeddings\n",
    "import re, ast, json\n",
    "\n",
    "from bs4 import BeautifulSoup\n",
    "from tqdm.auto import tqdm\n",
    "\n",
    "import psycopg2\n",
    "from psycopg2.extras import execute_values\n",
    "from pgvector.psycopg2 import register_vector\n",
    "\n",
    "import matplotlib.pyplot as plt\n",
    "import seaborn as sns\n",
    "\n",
    "from sklearn.manifold import TSNE\n",
    "from sklearn.cluster import KMeans\n",
    "from sklearn.metrics import confusion_matrix, ConfusionMatrixDisplay"
   ]
  },
  {
   "cell_type": "code",
   "execution_count": 71,
   "metadata": {},
   "outputs": [],
   "source": [
    "knowledge_df = pd.read_excel('../onet_competencies/knowledge_competencies.xlsx', skiprows=3)"
   ]
  },
  {
   "cell_type": "code",
   "execution_count": 72,
   "metadata": {},
   "outputs": [
    {
     "data": {
      "text/plain": [
       "Index(['Element ID', 'Element Name', 'Element Description',\n",
       "       'Synonym (Source: My Next Move Easy Read Content)',\n",
       "       'O*NET Database Occupation Linkages'],\n",
       "      dtype='object')"
      ]
     },
     "execution_count": 72,
     "metadata": {},
     "output_type": "execute_result"
    }
   ],
   "source": [
    "knowledge_df.columns"
   ]
  },
  {
   "cell_type": "code",
   "execution_count": 2,
   "metadata": {},
   "outputs": [],
   "source": [
    "with open('../.api_key', 'r') as file:\n",
    "    api_key = file.readline()\n",
    "vector_embeddings = VectorEmbeddings(api_key=api_key)"
   ]
  },
  {
   "cell_type": "code",
   "execution_count": 7,
   "metadata": {},
   "outputs": [],
   "source": [
    "job_df = pd.read_json('job_descriptions.json', lines=True)"
   ]
  },
  {
   "cell_type": "code",
   "execution_count": 25,
   "metadata": {},
   "outputs": [],
   "source": [
    "text_models = [m for m in palm.list_models() if 'generateText' in m.supported_generation_methods]\n",
    "text_model = text_models[0]"
   ]
  },
  {
   "cell_type": "code",
   "execution_count": 38,
   "metadata": {},
   "outputs": [],
   "source": [
    "k_skill = 'Medicine and Dentistry'\n",
    "k_description = 'knowledge of the information and techniques needed to diagnose and treat injuries, diseases, and deformities. This includes symptoms, treatment alternatives, and preventive health-care measures'\n",
    "k_high = 'Performing open-heart surgery'\n",
    "k_low = 'Using a small bandage'"
   ]
  },
  {
   "cell_type": "code",
   "execution_count": 114,
   "metadata": {},
   "outputs": [],
   "source": [
    "# An example high level requirement for this knowledge is {} while an example low level requirement for this knowledge is {}.\n",
    "\n",
    "def make_ksa_prompt(k_skill, k_description, job_ad):\n",
    "    query = 'Does this job ad require {} knowledge to perform the job?'.format(k_skill)\n",
    "    leading_text = '{} is the {}. Look at the job ad and decide if {} is required to perform this job. If {} is required please provide the specific tasks in a bulletized format from the job ad that relate to {}, if not simply say no'.format(k_skill, k_description,k_skill, k_skill, k_skill)\n",
    "    prompt = vector_embeddings.make_prompt(leading_text, query, job_ad)\n",
    "    \n",
    "    return prompt"
   ]
  },
  {
   "cell_type": "code",
   "execution_count": 125,
   "metadata": {},
   "outputs": [],
   "source": [
    "def generate_answers(prompt, text_model, candidate_count: int = 3, temperature:float = 0.5):\n",
    "    answers = palm.generate_text(prompt=prompt,\n",
    "                            model=text_model,\n",
    "                            candidate_count=candidate_count,\n",
    "                            temperature=temperature,\n",
    "                            max_output_tokens=1000)\n",
    "    return answers"
   ]
  },
  {
   "cell_type": "code",
   "execution_count": 127,
   "metadata": {},
   "outputs": [],
   "source": [
    "def determine_if_ksa_is_present(answers):\n",
    "    for answer in answers.candidates:\n",
    "        if answer['output'].lower().startswith('no'):\n",
    "            return False\n",
    "    return True"
   ]
  },
  {
   "cell_type": "code",
   "execution_count": 143,
   "metadata": {},
   "outputs": [],
   "source": [
    "ksa = []\n",
    "non_ksa = []\n",
    "for i, row in knowledge_df.iterrows():\n",
    "    prompt = make_ksa_prompt(row['Element Name'].lower(), row['Element Description'].lower(), job_df.iloc[65][\"requirements_qualifications\"])\n",
    "\n",
    "    answers = generate_answers(prompt, text_model, temperature=0.1)\n",
    "\n",
    "    add = determine_if_ksa_is_present(answers)\n",
    "\n",
    "    if add:\n",
    "        ksa.append(row['Element Name'])\n",
    "    else:\n",
    "        non_ksa.append(row['Element Name'])"
   ]
  },
  {
   "cell_type": "code",
   "execution_count": 144,
   "metadata": {},
   "outputs": [
    {
     "data": {
      "text/plain": [
       "(['Administration and Management',\n",
       "  'Engineering and Technology',\n",
       "  'Engineering and Technology',\n",
       "  'Design',\n",
       "  'Building and Construction',\n",
       "  'Mathematics and Science',\n",
       "  'Mathematics',\n",
       "  'Physics',\n",
       "  'Geography',\n",
       "  'Medicine and Dentistry',\n",
       "  'Therapy and Counseling',\n",
       "  'Education and Training',\n",
       "  'English Language'],\n",
       " ['Business and Management',\n",
       "  'Administrative',\n",
       "  'Economics and Accounting',\n",
       "  'Sales and Marketing',\n",
       "  'Customer and Personal Service',\n",
       "  'Personnel and Human Resources',\n",
       "  'Manufacturing and Production',\n",
       "  'Production and Processing',\n",
       "  'Food Production',\n",
       "  'Computers and Electronics',\n",
       "  'Mechanical',\n",
       "  'Chemistry',\n",
       "  'Biology',\n",
       "  'Psychology',\n",
       "  'Sociology and Anthropology',\n",
       "  'Health Services',\n",
       "  'Arts and Humanities',\n",
       "  'Foreign Language',\n",
       "  'Fine Arts',\n",
       "  'History and Archeology',\n",
       "  'Philosophy and Theology',\n",
       "  'Law and Public Safety',\n",
       "  'Public Safety and Security',\n",
       "  'Law and Government',\n",
       "  'Communications',\n",
       "  'Telecommunications',\n",
       "  'Communications and Media',\n",
       "  'Transportation'])"
      ]
     },
     "execution_count": 144,
     "metadata": {},
     "output_type": "execute_result"
    }
   ],
   "source": [
    "ksa, non_ksa"
   ]
  },
  {
   "cell_type": "code",
   "execution_count": 142,
   "metadata": {},
   "outputs": [
    {
     "data": {
      "text/plain": [
       "(['Administration and Management',\n",
       "  'Engineering and Technology',\n",
       "  'Engineering and Technology',\n",
       "  'Design',\n",
       "  'Building and Construction',\n",
       "  'Mathematics and Science',\n",
       "  'Mathematics',\n",
       "  'Physics',\n",
       "  'Geography',\n",
       "  'Medicine and Dentistry',\n",
       "  'Therapy and Counseling',\n",
       "  'Education and Training',\n",
       "  'English Language'],\n",
       " ['Business and Management',\n",
       "  'Administrative',\n",
       "  'Economics and Accounting',\n",
       "  'Sales and Marketing',\n",
       "  'Customer and Personal Service',\n",
       "  'Personnel and Human Resources',\n",
       "  'Manufacturing and Production',\n",
       "  'Production and Processing',\n",
       "  'Food Production',\n",
       "  'Computers and Electronics',\n",
       "  'Mechanical',\n",
       "  'Chemistry',\n",
       "  'Biology',\n",
       "  'Psychology',\n",
       "  'Sociology and Anthropology',\n",
       "  'Health Services',\n",
       "  'Arts and Humanities',\n",
       "  'Foreign Language',\n",
       "  'Fine Arts',\n",
       "  'History and Archeology',\n",
       "  'Philosophy and Theology',\n",
       "  'Law and Public Safety',\n",
       "  'Public Safety and Security',\n",
       "  'Law and Government',\n",
       "  'Communications',\n",
       "  'Telecommunications',\n",
       "  'Communications and Media',\n",
       "  'Transportation'])"
      ]
     },
     "execution_count": 142,
     "metadata": {},
     "output_type": "execute_result"
    }
   ],
   "source": [
    "ksa, non_ksa"
   ]
  },
  {
   "cell_type": "code",
   "execution_count": 140,
   "metadata": {},
   "outputs": [
    {
     "data": {
      "text/plain": [
       "(['Administration and Management',\n",
       "  'Engineering and Technology',\n",
       "  'Engineering and Technology',\n",
       "  'Design',\n",
       "  'Building and Construction',\n",
       "  'Mathematics and Science',\n",
       "  'Mathematics',\n",
       "  'Physics',\n",
       "  'Geography',\n",
       "  'Medicine and Dentistry',\n",
       "  'Therapy and Counseling',\n",
       "  'Education and Training'],\n",
       " ['Business and Management',\n",
       "  'Administrative',\n",
       "  'Economics and Accounting',\n",
       "  'Sales and Marketing',\n",
       "  'Customer and Personal Service',\n",
       "  'Personnel and Human Resources',\n",
       "  'Manufacturing and Production',\n",
       "  'Production and Processing',\n",
       "  'Food Production',\n",
       "  'Computers and Electronics',\n",
       "  'Mechanical',\n",
       "  'Chemistry',\n",
       "  'Biology',\n",
       "  'Psychology',\n",
       "  'Sociology and Anthropology',\n",
       "  'Health Services',\n",
       "  'Arts and Humanities',\n",
       "  'English Language',\n",
       "  'Foreign Language',\n",
       "  'Fine Arts',\n",
       "  'History and Archeology',\n",
       "  'Philosophy and Theology',\n",
       "  'Law and Public Safety',\n",
       "  'Public Safety and Security',\n",
       "  'Law and Government',\n",
       "  'Communications',\n",
       "  'Telecommunications',\n",
       "  'Communications and Media',\n",
       "  'Transportation'])"
      ]
     },
     "execution_count": 140,
     "metadata": {},
     "output_type": "execute_result"
    }
   ],
   "source": [
    "ksa, non_ksa"
   ]
  },
  {
   "cell_type": "code",
   "execution_count": 112,
   "metadata": {},
   "outputs": [],
   "source": [
    "prompt = make_ksa_prompt(knowledge_df.iloc[3]['Element Name'].lower(), knowledge_df.iloc[3]['Element Description'].lower())"
   ]
  },
  {
   "cell_type": "code",
   "execution_count": 119,
   "metadata": {},
   "outputs": [
    {
     "name": "stdout",
     "output_type": "stream",
     "text": [
      "Candidate 0: No\n",
      "\n",
      "Candidate 1: No\n",
      "\n",
      "Candidate 2: No, transportation is not required to perform the job.\n",
      "\n",
      "Candidate 3: No\n",
      "\n",
      "Candidate 4: No\n",
      "\n"
     ]
    }
   ],
   "source": [
    "temperature = 0.5\n",
    "answers = palm.generate_text(prompt=prompt,\n",
    "                            model=text_model,\n",
    "                            candidate_count=5,\n",
    "                            temperature=temperature,\n",
    "                            max_output_tokens=1000)\n",
    "for i, candidate in enumerate(answer.candidates):\n",
    "  print(f\"Candidate {i}: {candidate['output']}\\n\")"
   ]
  },
  {
   "cell_type": "code",
   "execution_count": 126,
   "metadata": {},
   "outputs": [
    {
     "name": "stdout",
     "output_type": "stream",
     "text": [
      "yes\n",
      "yes\n",
      "yes\n",
      "yes\n",
      "yes\n"
     ]
    }
   ],
   "source": [
    "for answer in answers.candidates:\n",
    "    if answer['output'].lower().startswith('no'):\n",
    "        print('yes')"
   ]
  },
  {
   "cell_type": "code",
   "execution_count": 36,
   "metadata": {},
   "outputs": [],
   "source": [
    "for i, candidate in enumerate(answer.candidates):\n",
    "  print(f\"Candidate {i}: {candidate['output']}\\n\")"
   ]
  },
  {
   "cell_type": "code",
   "execution_count": 110,
   "metadata": {},
   "outputs": [
    {
     "data": {
      "text/plain": [
       "'Knowledge of administrative and office procedures and systems such as word processing, managing files and records, stenography and transcription, designing forms, and workplace terminology.'"
      ]
     },
     "execution_count": 110,
     "metadata": {},
     "output_type": "execute_result"
    }
   ],
   "source": [
    "knowledge_df.iloc[2]['Element Description']"
   ]
  },
  {
   "cell_type": "code",
   "execution_count": null,
   "metadata": {},
   "outputs": [],
   "source": []
  }
 ],
 "metadata": {
  "kernelspec": {
   "display_name": ".venv",
   "language": "python",
   "name": "python3"
  },
  "language_info": {
   "codemirror_mode": {
    "name": "ipython",
    "version": 3
   },
   "file_extension": ".py",
   "mimetype": "text/x-python",
   "name": "python",
   "nbconvert_exporter": "python",
   "pygments_lexer": "ipython3",
   "version": "3.11.6"
  }
 },
 "nbformat": 4,
 "nbformat_minor": 2
}
